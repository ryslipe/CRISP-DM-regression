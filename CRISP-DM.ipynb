{
 "cells": [
  {
   "cell_type": "markdown",
   "id": "0fd647e1-ccd0-456e-b168-b48233d55afa",
   "metadata": {},
   "source": [
    "### Regression Model - Exam Scores"
   ]
  },
  {
   "cell_type": "code",
   "execution_count": 49,
   "id": "538733c4-3b63-4296-ad9c-78dfd31cbe5b",
   "metadata": {
    "tags": []
   },
   "outputs": [],
   "source": [
    "import pandas as pd\n",
    "import numpy as np\n",
    "import matplotlib.pyplot as plt\n",
    "from math import sqrt"
   ]
  },
  {
   "cell_type": "code",
   "execution_count": 2,
   "id": "1be2a502-43cc-41ae-aee6-93bf58f992b3",
   "metadata": {
    "tags": []
   },
   "outputs": [],
   "source": [
    "# create data \n",
    "data = {\n",
    "    'Midterm': [72, 50, 81, 74, 94, 86, 59, 83, 65, 33, 88, 81],\n",
    "    'Final': [84, 63, 77, 78, 90, 75, 49, 79, 77, 52, 74, 90],    \n",
    "}"
   ]
  },
  {
   "cell_type": "code",
   "execution_count": 3,
   "id": "5db49172-749e-4ba9-ab61-dbce3f95b687",
   "metadata": {
    "tags": []
   },
   "outputs": [],
   "source": [
    "# create data frame\n",
    "df = pd.DataFrame(data)"
   ]
  },
  {
   "cell_type": "code",
   "execution_count": 4,
   "id": "097e6261-6f25-421c-a97f-aa74aa162927",
   "metadata": {
    "tags": []
   },
   "outputs": [
    {
     "data": {
      "text/html": [
       "<div>\n",
       "<style scoped>\n",
       "    .dataframe tbody tr th:only-of-type {\n",
       "        vertical-align: middle;\n",
       "    }\n",
       "\n",
       "    .dataframe tbody tr th {\n",
       "        vertical-align: top;\n",
       "    }\n",
       "\n",
       "    .dataframe thead th {\n",
       "        text-align: right;\n",
       "    }\n",
       "</style>\n",
       "<table border=\"1\" class=\"dataframe\">\n",
       "  <thead>\n",
       "    <tr style=\"text-align: right;\">\n",
       "      <th></th>\n",
       "      <th>Midterm</th>\n",
       "      <th>Final</th>\n",
       "    </tr>\n",
       "  </thead>\n",
       "  <tbody>\n",
       "    <tr>\n",
       "      <th>0</th>\n",
       "      <td>72</td>\n",
       "      <td>84</td>\n",
       "    </tr>\n",
       "    <tr>\n",
       "      <th>1</th>\n",
       "      <td>50</td>\n",
       "      <td>63</td>\n",
       "    </tr>\n",
       "    <tr>\n",
       "      <th>2</th>\n",
       "      <td>81</td>\n",
       "      <td>77</td>\n",
       "    </tr>\n",
       "    <tr>\n",
       "      <th>3</th>\n",
       "      <td>74</td>\n",
       "      <td>78</td>\n",
       "    </tr>\n",
       "    <tr>\n",
       "      <th>4</th>\n",
       "      <td>94</td>\n",
       "      <td>90</td>\n",
       "    </tr>\n",
       "    <tr>\n",
       "      <th>5</th>\n",
       "      <td>86</td>\n",
       "      <td>75</td>\n",
       "    </tr>\n",
       "    <tr>\n",
       "      <th>6</th>\n",
       "      <td>59</td>\n",
       "      <td>49</td>\n",
       "    </tr>\n",
       "    <tr>\n",
       "      <th>7</th>\n",
       "      <td>83</td>\n",
       "      <td>79</td>\n",
       "    </tr>\n",
       "    <tr>\n",
       "      <th>8</th>\n",
       "      <td>65</td>\n",
       "      <td>77</td>\n",
       "    </tr>\n",
       "    <tr>\n",
       "      <th>9</th>\n",
       "      <td>33</td>\n",
       "      <td>52</td>\n",
       "    </tr>\n",
       "    <tr>\n",
       "      <th>10</th>\n",
       "      <td>88</td>\n",
       "      <td>74</td>\n",
       "    </tr>\n",
       "    <tr>\n",
       "      <th>11</th>\n",
       "      <td>81</td>\n",
       "      <td>90</td>\n",
       "    </tr>\n",
       "  </tbody>\n",
       "</table>\n",
       "</div>"
      ],
      "text/plain": [
       "    Midterm  Final\n",
       "0        72     84\n",
       "1        50     63\n",
       "2        81     77\n",
       "3        74     78\n",
       "4        94     90\n",
       "5        86     75\n",
       "6        59     49\n",
       "7        83     79\n",
       "8        65     77\n",
       "9        33     52\n",
       "10       88     74\n",
       "11       81     90"
      ]
     },
     "execution_count": 4,
     "metadata": {},
     "output_type": "execute_result"
    }
   ],
   "source": [
    "# view data frame\n",
    "df"
   ]
  },
  {
   "cell_type": "code",
   "execution_count": 5,
   "id": "584ae084-843e-4e70-8803-91cf2a0426c7",
   "metadata": {
    "tags": []
   },
   "outputs": [
    {
     "name": "stdout",
     "output_type": "stream",
     "text": [
      "<class 'pandas.core.frame.DataFrame'>\n",
      "RangeIndex: 12 entries, 0 to 11\n",
      "Data columns (total 2 columns):\n",
      " #   Column   Non-Null Count  Dtype\n",
      "---  ------   --------------  -----\n",
      " 0   Midterm  12 non-null     int64\n",
      " 1   Final    12 non-null     int64\n",
      "dtypes: int64(2)\n",
      "memory usage: 320.0 bytes\n"
     ]
    }
   ],
   "source": [
    "# check data type and nulls\n",
    "df.info()"
   ]
  },
  {
   "cell_type": "code",
   "execution_count": 6,
   "id": "9b3176a1-dff8-42b8-b837-d06ec8bf8d6e",
   "metadata": {
    "tags": []
   },
   "outputs": [
    {
     "data": {
      "text/html": [
       "<div>\n",
       "<style scoped>\n",
       "    .dataframe tbody tr th:only-of-type {\n",
       "        vertical-align: middle;\n",
       "    }\n",
       "\n",
       "    .dataframe tbody tr th {\n",
       "        vertical-align: top;\n",
       "    }\n",
       "\n",
       "    .dataframe thead th {\n",
       "        text-align: right;\n",
       "    }\n",
       "</style>\n",
       "<table border=\"1\" class=\"dataframe\">\n",
       "  <thead>\n",
       "    <tr style=\"text-align: right;\">\n",
       "      <th></th>\n",
       "      <th>Midterm</th>\n",
       "      <th>Final</th>\n",
       "    </tr>\n",
       "  </thead>\n",
       "  <tbody>\n",
       "    <tr>\n",
       "      <th>count</th>\n",
       "      <td>12.000000</td>\n",
       "      <td>12.00000</td>\n",
       "    </tr>\n",
       "    <tr>\n",
       "      <th>mean</th>\n",
       "      <td>72.166667</td>\n",
       "      <td>74.00000</td>\n",
       "    </tr>\n",
       "    <tr>\n",
       "      <th>std</th>\n",
       "      <td>17.698656</td>\n",
       "      <td>13.14949</td>\n",
       "    </tr>\n",
       "    <tr>\n",
       "      <th>min</th>\n",
       "      <td>33.000000</td>\n",
       "      <td>49.00000</td>\n",
       "    </tr>\n",
       "    <tr>\n",
       "      <th>25%</th>\n",
       "      <td>63.500000</td>\n",
       "      <td>71.25000</td>\n",
       "    </tr>\n",
       "    <tr>\n",
       "      <th>50%</th>\n",
       "      <td>77.500000</td>\n",
       "      <td>77.00000</td>\n",
       "    </tr>\n",
       "    <tr>\n",
       "      <th>75%</th>\n",
       "      <td>83.750000</td>\n",
       "      <td>80.25000</td>\n",
       "    </tr>\n",
       "    <tr>\n",
       "      <th>max</th>\n",
       "      <td>94.000000</td>\n",
       "      <td>90.00000</td>\n",
       "    </tr>\n",
       "  </tbody>\n",
       "</table>\n",
       "</div>"
      ],
      "text/plain": [
       "         Midterm     Final\n",
       "count  12.000000  12.00000\n",
       "mean   72.166667  74.00000\n",
       "std    17.698656  13.14949\n",
       "min    33.000000  49.00000\n",
       "25%    63.500000  71.25000\n",
       "50%    77.500000  77.00000\n",
       "75%    83.750000  80.25000\n",
       "max    94.000000  90.00000"
      ]
     },
     "execution_count": 6,
     "metadata": {},
     "output_type": "execute_result"
    }
   ],
   "source": [
    "# basic statistics\n",
    "df.describe()"
   ]
  },
  {
   "cell_type": "code",
   "execution_count": 52,
   "id": "3d6534a5-bc35-4991-b5d5-d90b822b6779",
   "metadata": {
    "tags": []
   },
   "outputs": [
    {
     "data": {
      "text/plain": [
       "Text(0, 0.5, 'Final Exam')"
      ]
     },
     "execution_count": 52,
     "metadata": {},
     "output_type": "execute_result"
    },
    {
     "data": {
      "image/png": "[encoded data removed]",
      "text/plain": [
       "<Figure size 800x550 with 1 Axes>"
      ]
     },
     "metadata": {},
     "output_type": "display_data"
    }
   ],
   "source": [
    "# scatterplot of our data\n",
    "plt.style.use('seaborn-v0_8')\n",
    "fix, ax = plt.subplots()\n",
    "ax.scatter(df.Midterm, df.Final, s = 25)\n",
    "ax.set_title('Student Exam Scores', fontsize = 14)\n",
    "ax.set_xlabel('Midterm Exam')\n",
    "ax.set_ylabel('Final Exam')\n"
   ]
  },
  {
   "cell_type": "code",
   "execution_count": 8,
   "id": "8b8c9ac8-0e9c-4b2a-8b42-a243618c1d32",
   "metadata": {
    "tags": []
   },
   "outputs": [
    {
     "name": "stdout",
     "output_type": "stream",
     "text": [
      "          Midterm     Final\n",
      "Midterm  1.000000  0.782809\n",
      "Final    0.782809  1.000000\n"
     ]
    }
   ],
   "source": [
    "print(df.corr())"
   ]
  },
  {
   "cell_type": "code",
   "execution_count": 56,
   "id": "2be8dd9e-084d-469d-b527-1016cdce4c26",
   "metadata": {
    "tags": []
   },
   "outputs": [
    {
     "data": {
      "text/plain": [
       "Text(0.5, 1.0, 'Final Exam Boxplot')"
      ]
     },
     "execution_count": 56,
     "metadata": {},
     "output_type": "execute_result"
    },
    {
     "data": {
      "image/png": "[encoded data removed]",
      "text/plain": [
       "<Figure size 800x550 with 1 Axes>"
      ]
     },
     "metadata": {},
     "output_type": "display_data"
    }
   ],
   "source": [
    "fig, ax = plt.subplots()\n",
    "ax.boxplot(df['Final'])\n",
    "ax.set_title('Final Exam Boxplot')"
   ]
  },
  {
   "cell_type": "markdown",
   "id": "8b1246ea-d385-4990-8f86-24172e727d44",
   "metadata": {},
   "source": [
    "### Baseline Model"
   ]
  },
  {
   "cell_type": "code",
   "execution_count": 9,
   "id": "ddfe32f9-4fcc-4cb4-bb7b-b2678e845fc0",
   "metadata": {},
   "outputs": [
    {
     "name": "stdout",
     "output_type": "stream",
     "text": [
      "74.0\n"
     ]
    }
   ],
   "source": [
    "# add the line of the average y value as our projection\n",
    "avg = df['Final'].mean()\n",
    "print(avg)"
   ]
  },
  {
   "cell_type": "code",
   "execution_count": 10,
   "id": "ef6685cb-3684-4464-90d9-dbe9137e3574",
   "metadata": {
    "tags": []
   },
   "outputs": [
    {
     "data": {
      "text/plain": [
       "<matplotlib.lines.Line2D at 0x275583c1e40>"
      ]
     },
     "execution_count": 10,
     "metadata": {},
     "output_type": "execute_result"
    },
    {
     "data": {
      "image/png": "[encoded data removed]",
      "text/plain": [
       "<Figure size 640x480 with 1 Axes>"
      ]
     },
     "metadata": {},
     "output_type": "display_data"
    }
   ],
   "source": [
    "# scatterplot of our data\n",
    "fix, ax = plt.subplots()\n",
    "ax.scatter(df.Midterm, df.Final, s = 25)\n",
    "ax.set_title('Student Exam Scores', fontsize = 14)\n",
    "ax.set_xlabel('Midterm Exam')\n",
    "ax.set_ylabel('Final Exam')\n",
    "ax.axhline(y = 74, c = 'red')"
   ]
  },
  {
   "cell_type": "code",
   "execution_count": 11,
   "id": "c15c9fed-1cd7-4883-959d-ad4a5600fc8e",
   "metadata": {
    "tags": []
   },
   "outputs": [
    {
     "name": "stdout",
     "output_type": "stream",
     "text": [
      "[-10, 11, -3, -4, -16, -1, 25, -5, -3, 22, 0, -16]\n"
     ]
    }
   ],
   "source": [
    "# get distance to average final y-value\n",
    "distance = []\n",
    "for grade in df.Final:\n",
    "    dist = 74 - grade\n",
    "    distance.append(dist)\n",
    "print(distance)"
   ]
  },
  {
   "cell_type": "code",
   "execution_count": 12,
   "id": "351b3a29-134a-4d69-9d84-892116443363",
   "metadata": {
    "tags": []
   },
   "outputs": [],
   "source": [
    "# square the distance\n",
    "distance = [d**2 for d in distance]"
   ]
  },
  {
   "cell_type": "code",
   "execution_count": 13,
   "id": "cb1c4ff0-52fe-4eff-beeb-23f58fe16674",
   "metadata": {
    "tags": []
   },
   "outputs": [
    {
     "data": {
      "text/plain": [
       "[100, 121, 9, 16, 256, 1, 625, 25, 9, 484, 0, 256]"
      ]
     },
     "execution_count": 13,
     "metadata": {},
     "output_type": "execute_result"
    }
   ],
   "source": [
    "# check values\n",
    "distance"
   ]
  },
  {
   "cell_type": "code",
   "execution_count": 14,
   "id": "429d8306-7d11-4b5c-95ca-6299526e02cf",
   "metadata": {
    "tags": []
   },
   "outputs": [
    {
     "data": {
      "text/plain": [
       "1902"
      ]
     },
     "execution_count": 14,
     "metadata": {},
     "output_type": "execute_result"
    }
   ],
   "source": [
    "# add them up - this is the squared sum of residuals (SSR)\n",
    "sum(distance)"
   ]
  },
  {
   "cell_type": "code",
   "execution_count": 33,
   "id": "40d0674b-ace9-4acd-81d6-a41afdde10f9",
   "metadata": {
    "tags": []
   },
   "outputs": [
    {
     "data": {
      "text/plain": [
       "158.5"
      ]
     },
     "execution_count": 33,
     "metadata": {},
     "output_type": "execute_result"
    }
   ],
   "source": [
    "# divide by number of observations for MSE \n",
    "mse = 1902 / 12\n",
    "mse"
   ]
  },
  {
   "cell_type": "code",
   "execution_count": 50,
   "id": "b603888c-2b6c-4fab-b474-1eca6bc1ecec",
   "metadata": {
    "tags": []
   },
   "outputs": [
    {
     "data": {
      "text/plain": [
       "12.589678312014172"
      ]
     },
     "execution_count": 50,
     "metadata": {},
     "output_type": "execute_result"
    }
   ],
   "source": [
    "# rmse \n",
    "rmse = sqrt(158.5)\n",
    "rmse"
   ]
  },
  {
   "cell_type": "markdown",
   "id": "3f9cfa8e-b48b-47d9-8d84-a7ba2d5c7ae2",
   "metadata": {},
   "source": [
    "### Modeling with Sklearn"
   ]
  },
  {
   "cell_type": "code",
   "execution_count": 16,
   "id": "edc3dfdc-e0e9-488e-9a2f-773e68402645",
   "metadata": {
    "tags": []
   },
   "outputs": [],
   "source": [
    "from sklearn.linear_model import LinearRegression"
   ]
  },
  {
   "cell_type": "code",
   "execution_count": 22,
   "id": "6b8a958e-6461-4f1c-88c8-52f892ae1001",
   "metadata": {
    "tags": []
   },
   "outputs": [
    {
     "data": {
      "text/plain": [
       "array([[72],\n",
       "       [50],\n",
       "       [81],\n",
       "       [74],\n",
       "       [94],\n",
       "       [86],\n",
       "       [59],\n",
       "       [83],\n",
       "       [65],\n",
       "       [33],\n",
       "       [88],\n",
       "       [81]], dtype=int64)"
      ]
     },
     "execution_count": 22,
     "metadata": {},
     "output_type": "execute_result"
    }
   ],
   "source": [
    "# reshape to one dimension\n",
    "X = np.array(df['Midterm']).reshape(-1, 1)\n",
    "X"
   ]
  },
  {
   "cell_type": "code",
   "execution_count": 26,
   "id": "1fd1b792-b226-460f-b0cd-a5a1b706bedd",
   "metadata": {
    "tags": []
   },
   "outputs": [],
   "source": [
    "y = df['Final']"
   ]
  },
  {
   "cell_type": "code",
   "execution_count": 27,
   "id": "5666126a-cb25-4748-94fe-390292449185",
   "metadata": {
    "tags": []
   },
   "outputs": [
    {
     "data": {
      "text/html": [
       "<style>#sk-container-id-1 {color: black;}#sk-container-id-1 pre{padding: 0;}#sk-container-id-1 div.sk-toggleable {background-color: white;}#sk-container-id-1 label.sk-toggleable__label {cursor: pointer;display: block;width: 100%;margin-bottom: 0;padding: 0.3em;box-sizing: border-box;text-align: center;}#sk-container-id-1 label.sk-toggleable__label-arrow:before {content: \"▸\";float: left;margin-right: 0.25em;color: #696969;}#sk-container-id-1 label.sk-toggleable__label-arrow:hover:before {color: black;}#sk-container-id-1 div.sk-estimator:hover label.sk-toggleable__label-arrow:before {color: black;}#sk-container-id-1 div.sk-toggleable__content {max-height: 0;max-width: 0;overflow: hidden;text-align: left;background-color: #f0f8ff;}#sk-container-id-1 div.sk-toggleable__content pre {margin: 0.2em;color: black;border-radius: 0.25em;background-color: #f0f8ff;}#sk-container-id-1 input.sk-toggleable__control:checked~div.sk-toggleable__content {max-height: 200px;max-width: 100%;overflow: auto;}#sk-container-id-1 input.sk-toggleable__control:checked~label.sk-toggleable__label-arrow:before {content: \"▾\";}#sk-container-id-1 div.sk-estimator input.sk-toggleable__control:checked~label.sk-toggleable__label {background-color: #d4ebff;}#sk-container-id-1 div.sk-label input.sk-toggleable__control:checked~label.sk-toggleable__label {background-color: #d4ebff;}#sk-container-id-1 input.sk-hidden--visually {border: 0;clip: rect(1px 1px 1px 1px);clip: rect(1px, 1px, 1px, 1px);height: 1px;margin: -1px;overflow: hidden;padding: 0;position: absolute;width: 1px;}#sk-container-id-1 div.sk-estimator {font-family: monospace;background-color: #f0f8ff;border: 1px dotted black;border-radius: 0.25em;box-sizing: border-box;margin-bottom: 0.5em;}#sk-container-id-1 div.sk-estimator:hover {background-color: #d4ebff;}#sk-container-id-1 div.sk-parallel-item::after {content: \"\";width: 100%;border-bottom: 1px solid gray;flex-grow: 1;}#sk-container-id-1 div.sk-label:hover label.sk-toggleable__label {background-color: #d4ebff;}#sk-container-id-1 div.sk-serial::before {content: \"\";position: absolute;border-left: 1px solid gray;box-sizing: border-box;top: 0;bottom: 0;left: 50%;z-index: 0;}#sk-container-id-1 div.sk-serial {display: flex;flex-direction: column;align-items: center;background-color: white;padding-right: 0.2em;padding-left: 0.2em;position: relative;}#sk-container-id-1 div.sk-item {position: relative;z-index: 1;}#sk-container-id-1 div.sk-parallel {display: flex;align-items: stretch;justify-content: center;background-color: white;position: relative;}#sk-container-id-1 div.sk-item::before, #sk-container-id-1 div.sk-parallel-item::before {content: \"\";position: absolute;border-left: 1px solid gray;box-sizing: border-box;top: 0;bottom: 0;left: 50%;z-index: -1;}#sk-container-id-1 div.sk-parallel-item {display: flex;flex-direction: column;z-index: 1;position: relative;background-color: white;}#sk-container-id-1 div.sk-parallel-item:first-child::after {align-self: flex-end;width: 50%;}#sk-container-id-1 div.sk-parallel-item:last-child::after {align-self: flex-start;width: 50%;}#sk-container-id-1 div.sk-parallel-item:only-child::after {width: 0;}#sk-container-id-1 div.sk-dashed-wrapped {border: 1px dashed gray;margin: 0 0.4em 0.5em 0.4em;box-sizing: border-box;padding-bottom: 0.4em;background-color: white;}#sk-container-id-1 div.sk-label label {font-family: monospace;font-weight: bold;display: inline-block;line-height: 1.2em;}#sk-container-id-1 div.sk-label-container {text-align: center;}#sk-container-id-1 div.sk-container {/* jupyter's `normalize.less` sets `[hidden] { display: none; }` but bootstrap.min.css set `[hidden] { display: none !important; }` so we also need the `!important` here to be able to override the default hidden behavior on the sphinx rendered scikit-learn.org. See: https://github.com/scikit-learn/scikit-learn/issues/21755 */display: inline-block !important;position: relative;}#sk-container-id-1 div.sk-text-repr-fallback {display: none;}</style><div id=\"sk-container-id-1\" class=\"sk-top-container\"><div class=\"sk-text-repr-fallback\"><pre>LinearRegression()</pre><b>In a Jupyter environment, please rerun this cell to show the HTML representation or trust the notebook. <br />On GitHub, the HTML representation is unable to render, please try loading this page with nbviewer.org.</b></div><div class=\"sk-container\" hidden><div class=\"sk-item\"><div class=\"sk-estimator sk-toggleable\"><input class=\"sk-toggleable__control sk-hidden--visually\" id=\"sk-estimator-id-1\" type=\"checkbox\" checked><label for=\"sk-estimator-id-1\" class=\"sk-toggleable__label sk-toggleable__label-arrow\">LinearRegression</label><div class=\"sk-toggleable__content\"><pre>LinearRegression()</pre></div></div></div></div></div>"
      ],
      "text/plain": [
       "LinearRegression()"
      ]
     },
     "execution_count": 27,
     "metadata": {},
     "output_type": "execute_result"
    }
   ],
   "source": [
    "# create model object\n",
    "model = LinearRegression()\n",
    "\n",
    "# fit to our  data\n",
    "model.fit(X, y)"
   ]
  },
  {
   "cell_type": "markdown",
   "id": "7b893360-32c6-48bc-a77d-dd485f5635e1",
   "metadata": {},
   "source": [
    "### Finding Our Equation "
   ]
  },
  {
   "cell_type": "markdown",
   "id": "303a9d29-49d0-4337-bd0c-4cd10a772d26",
   "metadata": {},
   "source": [
    "y = mx + b"
   ]
  },
  {
   "cell_type": "code",
   "execution_count": 28,
   "id": "a7531353-7e09-4af7-a0c4-fc020b0276f6",
   "metadata": {
    "tags": []
   },
   "outputs": [
    {
     "data": {
      "text/plain": [
       "array([0.58160008])"
      ]
     },
     "execution_count": 28,
     "metadata": {},
     "output_type": "execute_result"
    }
   ],
   "source": [
    "# m is the slope\n",
    "m = model.coef_\n",
    "m"
   ]
  },
  {
   "cell_type": "code",
   "execution_count": 29,
   "id": "af49dbf6-4f4b-42bb-aed0-d38becb09c33",
   "metadata": {
    "tags": []
   },
   "outputs": [
    {
     "data": {
      "text/plain": [
       "32.02786108155171"
      ]
     },
     "execution_count": 29,
     "metadata": {},
     "output_type": "execute_result"
    }
   ],
   "source": [
    "# b is the interecept or bias\n",
    "b = model.intercept_\n",
    "b"
   ]
  },
  {
   "cell_type": "markdown",
   "id": "a1cdbf3b-4d65-4ce3-9543-1c0f6b75a130",
   "metadata": {},
   "source": [
    "This means that our equation is:\n",
    "+ Final Exam Score = 0.58160008 * Midterm Exam Score + 32.02786108155171"
   ]
  },
  {
   "cell_type": "code",
   "execution_count": 31,
   "id": "88b1722b-1147-4ea1-90aa-fb9a9ce6ce6c",
   "metadata": {
    "tags": []
   },
   "outputs": [
    {
     "data": {
      "text/plain": [
       "array([73.90306665, 61.10786495, 79.13746735, 75.06626681, 86.69826836,\n",
       "       82.04546774, 66.34226565, 80.30066751, 69.83186611, 51.22066364,\n",
       "       83.20866789, 79.13746735])"
      ]
     },
     "execution_count": 31,
     "metadata": {},
     "output_type": "execute_result"
    }
   ],
   "source": [
    "y_pred = model.predict(X)\n",
    "y_pred"
   ]
  },
  {
   "cell_type": "code",
   "execution_count": 32,
   "id": "e7f93bd6-58cc-4933-9128-0e78f3e795a0",
   "metadata": {
    "tags": []
   },
   "outputs": [
    {
     "data": {
      "text/plain": [
       "0     84\n",
       "1     63\n",
       "2     77\n",
       "3     78\n",
       "4     90\n",
       "5     75\n",
       "6     49\n",
       "7     79\n",
       "8     77\n",
       "9     52\n",
       "10    74\n",
       "11    90\n",
       "Name: Final, dtype: int64"
      ]
     },
     "execution_count": 32,
     "metadata": {},
     "output_type": "execute_result"
    }
   ],
   "source": [
    "y"
   ]
  },
  {
   "cell_type": "markdown",
   "id": "d9dd28e7-a607-46e9-a5e6-29c8a8d0ebc2",
   "metadata": {},
   "source": [
    "### Plotting our Best Fit Line"
   ]
  },
  {
   "cell_type": "code",
   "execution_count": 34,
   "id": "d0904e50-115c-4d83-a9d4-9710ebb10bd6",
   "metadata": {
    "tags": []
   },
   "outputs": [
    {
     "data": {
      "text/plain": [
       "Text(0, 0.5, 'final')"
      ]
     },
     "execution_count": 34,
     "metadata": {},
     "output_type": "execute_result"
    },
    {
     "data": {
      "image/png": "[encoded data removed]",
      "text/plain": [
       "<Figure size 640x480 with 1 Axes>"
      ]
     },
     "metadata": {},
     "output_type": "display_data"
    }
   ],
   "source": [
    "fig, ax = plt.subplots()\n",
    "ax.scatter(X, y)\n",
    "ax.plot(X, y_pred, c = 'red')\n",
    "ax.set_title('Best Fit Line')\n",
    "ax.set_xlabel('midterm')\n",
    "ax.set_ylabel('final')"
   ]
  },
  {
   "cell_type": "code",
   "execution_count": 35,
   "id": "b81888ce-9df2-4083-821c-5c4497744730",
   "metadata": {
    "tags": []
   },
   "outputs": [
    {
     "data": {
      "text/plain": [
       "array([32.02786108])"
      ]
     },
     "execution_count": 35,
     "metadata": {},
     "output_type": "execute_result"
    }
   ],
   "source": [
    "# prediction if someone got a 0 on midterm\n",
    "model.predict(np.array(0).reshape(1, -1))"
   ]
  },
  {
   "cell_type": "code",
   "execution_count": 89,
   "id": "03ba6650-89b6-43b3-80e7-1b3f98fd4337",
   "metadata": {
    "tags": []
   },
   "outputs": [
    {
     "data": {
      "text/plain": [
       "array([82.04546774])"
      ]
     },
     "execution_count": 89,
     "metadata": {},
     "output_type": "execute_result"
    }
   ],
   "source": [
    "# prediction if they get an 86\n",
    "new_pred = model.predict(np.array(86).reshape(1, -1))\n",
    "new_pred"
   ]
  },
  {
   "cell_type": "code",
   "execution_count": 38,
   "id": "a1bffd4d-3f6a-4c07-8f49-ad67c99bf749",
   "metadata": {
    "tags": []
   },
   "outputs": [
    {
     "data": {
      "text/plain": [
       "82.04546796155171"
      ]
     },
     "execution_count": 38,
     "metadata": {},
     "output_type": "execute_result"
    }
   ],
   "source": [
    "# plugging into our equation manually \n",
    "0.58160008 * 86 + 32.02786108155171"
   ]
  },
  {
   "cell_type": "markdown",
   "id": "5905f9db-6590-4d74-ad5f-7a25b943ccc5",
   "metadata": {},
   "source": [
    "Some Intuition:\n",
    "+ This equation tells us that if someone got a 0 on the midterm they would get a 32 on the final\n",
    "+ For each point received on the midterm it will be increased by .58 points on the final. \n",
    "+ A person must get a 56 on the midterm to get a 65 on the final (passing grade) ( 65 = 0.58x + 32 -> x = 56) "
   ]
  },
  {
   "cell_type": "markdown",
   "id": "f53464b4-6aa9-417f-8d18-348a4cd267e1",
   "metadata": {},
   "source": [
    "### Scoring Metrics"
   ]
  },
  {
   "cell_type": "markdown",
   "id": "2ad9f263-0563-43b8-b28e-0d6d38814e69",
   "metadata": {},
   "source": [
    "Things to do:\n",
    "+ Describe MSE\n",
    "+ Describe RMSE\n",
    "+ Describe R^2\n",
    "+ What our results tell us\n",
    "+ Compare results to baseline model\n",
    "+ QQ plot\n",
    "+ Residual Plot"
   ]
  },
  {
   "cell_type": "code",
   "execution_count": 39,
   "id": "48591278-fced-4481-9b4f-6b5e1cbacc2f",
   "metadata": {
    "tags": []
   },
   "outputs": [],
   "source": [
    "from sklearn.metrics import mean_squared_error, r2_score"
   ]
  },
  {
   "cell_type": "markdown",
   "id": "cf253d6a-c246-4858-ba8b-932cc7b06e97",
   "metadata": {},
   "source": [
    "Earlier, we used a baseline model that predicted each final exam score to be the mean final exam score. This caused every prediction to be a 74 and resulted in a MSE of 158.5. Now that we used the Ordinary Least Squares model to make predictions, our MSE has decreased to 61. We can use the Root Mean Squared Error (RMSE) to see how far our predictions are while keeping the units in terms of final exam points by taking the square root of the MSE. We end up with a RMSE of 7.8 grade points. The baseline model had a RMSE of over 12 points so we see that this new model is more accurate and will keep predictions within a letter grade which helps educational institutions make decisions about students easier."
   ]
  },
  {
   "cell_type": "code",
   "execution_count": 41,
   "id": "4c1e7959-bcdd-45d0-b47a-22974b0308d9",
   "metadata": {
    "tags": []
   },
   "outputs": [
    {
     "data": {
      "text/plain": [
       "61.372787075553845"
      ]
     },
     "execution_count": 41,
     "metadata": {},
     "output_type": "execute_result"
    }
   ],
   "source": [
    "# mean squared error\n",
    "mse = mean_squared_error(y, y_pred)\n",
    "mse"
   ]
  },
  {
   "cell_type": "code",
   "execution_count": 42,
   "id": "6c73ef6b-cee7-4529-b599-96553ca83d69",
   "metadata": {
    "tags": []
   },
   "outputs": [
    {
     "data": {
      "text/plain": [
       "7.834078572209616"
      ]
     },
     "execution_count": 42,
     "metadata": {},
     "output_type": "execute_result"
    }
   ],
   "source": [
    "# root mean squared error\n",
    "rmse = mean_squared_error(y, y_pred, squared = False)\n",
    "rmse"
   ]
  },
  {
   "cell_type": "code",
   "execution_count": 43,
   "id": "334d0f19-4db2-4576-93b4-506766f49950",
   "metadata": {
    "tags": []
   },
   "outputs": [
    {
     "data": {
      "text/plain": [
       "0.6127899869050231"
      ]
     },
     "execution_count": 43,
     "metadata": {},
     "output_type": "execute_result"
    }
   ],
   "source": [
    "# r squared \n",
    "r_squared = r2_score(y, y_pred)\n",
    "r_squared"
   ]
  },
  {
   "cell_type": "code",
   "execution_count": 47,
   "id": "9b01a031-80c2-4d99-a350-63a2be981376",
   "metadata": {
    "tags": []
   },
   "outputs": [
    {
     "data": {
      "text/plain": [
       "<matplotlib.legend.Legend at 0x27562062020>"
      ]
     },
     "execution_count": 47,
     "metadata": {},
     "output_type": "execute_result"
    },
    {
     "data": {
      "image/png": "[encoded data removed]",
      "text/plain": [
       "<Figure size 800x600 with 1 Axes>"
      ]
     },
     "metadata": {},
     "output_type": "display_data"
    }
   ],
   "source": [
    "# plot our graph\n",
    "fig, ax = plt.subplots(figsize = ((8, 6)))\n",
    "# plot data\n",
    "ax.scatter(X, y, c = 'blue', label = 'known data')\n",
    "# plot regression line\n",
    "ax.plot(X, y_pred, c = 'red', label = 'regression line')\n",
    "# plot prediction of 86 on midterm\n",
    "ax.scatter(86, new_pred, c = 'green', s = 75, label = 'new  data prediction')\n",
    "ax.set_title('Data with Regression Line')\n",
    "ax.set_xlabel('Midterm Score')\n",
    "ax.set_ylabel('Final Exam Score')\n",
    "ax.legend()"
   ]
  },
  {
   "cell_type": "markdown",
   "id": "a29d1440-6bdc-45f8-9e42-62b5cb7cfdad",
   "metadata": {},
   "source": [
    "### Using statsmodel"
   ]
  },
  {
   "cell_type": "code",
   "execution_count": 78,
   "id": "e19e02d1-bcba-4116-8cd5-ef9380171db9",
   "metadata": {
    "tags": []
   },
   "outputs": [],
   "source": [
    "import statsmodels.api as sm\n",
    "from statsmodels.formula.api import ols"
   ]
  },
  {
   "cell_type": "code",
   "execution_count": 80,
   "id": "e3ee160d-e8af-4f97-b56a-9f542e8e3338",
   "metadata": {
    "tags": []
   },
   "outputs": [
    {
     "name": "stderr",
     "output_type": "stream",
     "text": [
      "C:\\Users\\ryans\\anaconda_3\\lib\\site-packages\\scipy\\stats\\_stats_py.py:1736: UserWarning: kurtosistest only valid for n>=20 ... continuing anyway, n=12\n",
      "  warnings.warn(\"kurtosistest only valid for n>=20 ... continuing \"\n"
     ]
    },
    {
     "data": {
      "text/html": [
       "<table class=\"simpletable\">\n",
       "<caption>OLS Regression Results</caption>\n",
       "<tr>\n",
       "  <th>Dep. Variable:</th>          <td>Final</td>      <th>  R-squared:         </th> <td>   0.613</td>\n",
       "</tr>\n",
       "<tr>\n",
       "  <th>Model:</th>                   <td>OLS</td>       <th>  Adj. R-squared:    </th> <td>   0.574</td>\n",
       "</tr>\n",
       "<tr>\n",
       "  <th>Method:</th>             <td>Least Squares</td>  <th>  F-statistic:       </th> <td>   15.83</td>\n",
       "</tr>\n",
       "<tr>\n",
       "  <th>Date:</th>             <td>Wed, 14 Feb 2024</td> <th>  Prob (F-statistic):</th>  <td>0.00261</td>\n",
       "</tr>\n",
       "<tr>\n",
       "  <th>Time:</th>                 <td>09:14:57</td>     <th>  Log-Likelihood:    </th> <td> -41.729</td>\n",
       "</tr>\n",
       "<tr>\n",
       "  <th>No. Observations:</th>      <td>    12</td>      <th>  AIC:               </th> <td>   87.46</td>\n",
       "</tr>\n",
       "<tr>\n",
       "  <th>Df Residuals:</th>          <td>    10</td>      <th>  BIC:               </th> <td>   88.43</td>\n",
       "</tr>\n",
       "<tr>\n",
       "  <th>Df Model:</th>              <td>     1</td>      <th>                     </th>     <td> </td>   \n",
       "</tr>\n",
       "<tr>\n",
       "  <th>Covariance Type:</th>      <td>nonrobust</td>    <th>                     </th>     <td> </td>   \n",
       "</tr>\n",
       "</table>\n",
       "<table class=\"simpletable\">\n",
       "<tr>\n",
       "      <td></td>         <th>coef</th>     <th>std err</th>      <th>t</th>      <th>P>|t|</th>  <th>[0.025</th>    <th>0.975]</th>  \n",
       "</tr>\n",
       "<tr>\n",
       "  <th>Intercept</th> <td>   32.0279</td> <td>   10.838</td> <td>    2.955</td> <td> 0.014</td> <td>    7.880</td> <td>   56.175</td>\n",
       "</tr>\n",
       "<tr>\n",
       "  <th>Midterm</th>   <td>    0.5816</td> <td>    0.146</td> <td>    3.978</td> <td> 0.003</td> <td>    0.256</td> <td>    0.907</td>\n",
       "</tr>\n",
       "</table>\n",
       "<table class=\"simpletable\">\n",
       "<tr>\n",
       "  <th>Omnibus:</th>       <td> 1.668</td> <th>  Durbin-Watson:     </th> <td>   1.623</td>\n",
       "</tr>\n",
       "<tr>\n",
       "  <th>Prob(Omnibus):</th> <td> 0.434</td> <th>  Jarque-Bera (JB):  </th> <td>   0.800</td>\n",
       "</tr>\n",
       "<tr>\n",
       "  <th>Skew:</th>          <td>-0.626</td> <th>  Prob(JB):          </th> <td>   0.670</td>\n",
       "</tr>\n",
       "<tr>\n",
       "  <th>Kurtosis:</th>      <td> 2.816</td> <th>  Cond. No.          </th> <td>    324.</td>\n",
       "</tr>\n",
       "</table><br/><br/>Notes:<br/>[1] Standard Errors assume that the covariance matrix of the errors is correctly specified."
      ],
      "text/latex": [
       "\\begin{center}\n",
       "\\begin{tabular}{lclc}\n",
       "\\toprule\n",
       "\\textbf{Dep. Variable:}    &      Final       & \\textbf{  R-squared:         } &     0.613   \\\\\n",
       "\\textbf{Model:}            &       OLS        & \\textbf{  Adj. R-squared:    } &     0.574   \\\\\n",
       "\\textbf{Method:}           &  Least Squares   & \\textbf{  F-statistic:       } &     15.83   \\\\\n",
       "\\textbf{Date:}             & Wed, 14 Feb 2024 & \\textbf{  Prob (F-statistic):} &  0.00261    \\\\\n",
       "\\textbf{Time:}             &     09:14:57     & \\textbf{  Log-Likelihood:    } &   -41.729   \\\\\n",
       "\\textbf{No. Observations:} &          12      & \\textbf{  AIC:               } &     87.46   \\\\\n",
       "\\textbf{Df Residuals:}     &          10      & \\textbf{  BIC:               } &     88.43   \\\\\n",
       "\\textbf{Df Model:}         &           1      & \\textbf{                     } &             \\\\\n",
       "\\textbf{Covariance Type:}  &    nonrobust     & \\textbf{                     } &             \\\\\n",
       "\\bottomrule\n",
       "\\end{tabular}\n",
       "\\begin{tabular}{lcccccc}\n",
       "                   & \\textbf{coef} & \\textbf{std err} & \\textbf{t} & \\textbf{P$> |$t$|$} & \\textbf{[0.025} & \\textbf{0.975]}  \\\\\n",
       "\\midrule\n",
       "\\textbf{Intercept} &      32.0279  &       10.838     &     2.955  &         0.014        &        7.880    &       56.175     \\\\\n",
       "\\textbf{Midterm}   &       0.5816  &        0.146     &     3.978  &         0.003        &        0.256    &        0.907     \\\\\n",
       "\\bottomrule\n",
       "\\end{tabular}\n",
       "\\begin{tabular}{lclc}\n",
       "\\textbf{Omnibus:}       &  1.668 & \\textbf{  Durbin-Watson:     } &    1.623  \\\\\n",
       "\\textbf{Prob(Omnibus):} &  0.434 & \\textbf{  Jarque-Bera (JB):  } &    0.800  \\\\\n",
       "\\textbf{Skew:}          & -0.626 & \\textbf{  Prob(JB):          } &    0.670  \\\\\n",
       "\\textbf{Kurtosis:}      &  2.816 & \\textbf{  Cond. No.          } &     324.  \\\\\n",
       "\\bottomrule\n",
       "\\end{tabular}\n",
       "%\\caption{OLS Regression Results}\n",
       "\\end{center}\n",
       "\n",
       "Notes: \\newline\n",
       " [1] Standard Errors assume that the covariance matrix of the errors is correctly specified."
      ],
      "text/plain": [
       "<class 'statsmodels.iolib.summary.Summary'>\n",
       "\"\"\"\n",
       "                            OLS Regression Results                            \n",
       "==============================================================================\n",
       "Dep. Variable:                  Final   R-squared:                       0.613\n",
       "Model:                            OLS   Adj. R-squared:                  0.574\n",
       "Method:                 Least Squares   F-statistic:                     15.83\n",
       "Date:                Wed, 14 Feb 2024   Prob (F-statistic):            0.00261\n",
       "Time:                        09:14:57   Log-Likelihood:                -41.729\n",
       "No. Observations:                  12   AIC:                             87.46\n",
       "Df Residuals:                      10   BIC:                             88.43\n",
       "Df Model:                           1                                         \n",
       "Covariance Type:            nonrobust                                         \n",
       "==============================================================================\n",
       "                 coef    std err          t      P>|t|      [0.025      0.975]\n",
       "------------------------------------------------------------------------------\n",
       "Intercept     32.0279     10.838      2.955      0.014       7.880      56.175\n",
       "Midterm        0.5816      0.146      3.978      0.003       0.256       0.907\n",
       "==============================================================================\n",
       "Omnibus:                        1.668   Durbin-Watson:                   1.623\n",
       "Prob(Omnibus):                  0.434   Jarque-Bera (JB):                0.800\n",
       "Skew:                          -0.626   Prob(JB):                        0.670\n",
       "Kurtosis:                       2.816   Cond. No.                         324.\n",
       "==============================================================================\n",
       "\n",
       "Notes:\n",
       "[1] Standard Errors assume that the covariance matrix of the errors is correctly specified.\n",
       "\"\"\""
      ]
     },
     "execution_count": 80,
     "metadata": {},
     "output_type": "execute_result"
    }
   ],
   "source": [
    "# add constant for statsmodels\n",
    "X1 = sm.add_constant(X)\n",
    "# create regression model\n",
    "model_2 = ols('Final ~ Midterm', data = df).fit()\n",
    "\n",
    "# fit the model\n",
    "model_2.summary()"
   ]
  },
  {
   "cell_type": "code",
   "execution_count": 83,
   "id": "b4ab5cd5-ab65-4e17-b5d1-1aff06a20679",
   "metadata": {
    "tags": []
   },
   "outputs": [
    {
     "data": {
      "image/png": "[encoded data removed]",
      "text/plain": [
       "<Figure size 800x550 with 4 Axes>"
      ]
     },
     "metadata": {},
     "output_type": "display_data"
    }
   ],
   "source": [
    "# regression plots\n",
    "res_plot = sm.graphics.plot_regress_exog(model_2, 'Midterm')"
   ]
  },
  {
   "cell_type": "code",
   "execution_count": 84,
   "id": "badfa853-a652-4214-bb5f-ece1aedaefff",
   "metadata": {
    "tags": []
   },
   "outputs": [
    {
     "data": {
      "text/plain": [
       "0     10.096933\n",
       "1      1.892135\n",
       "2     -2.137467\n",
       "3      2.933733\n",
       "4      3.301732\n",
       "5     -7.045468\n",
       "6    -17.342266\n",
       "7     -1.300668\n",
       "8      7.168134\n",
       "9      0.779336\n",
       "10    -9.208668\n",
       "11    10.862533\n",
       "dtype: float64"
      ]
     },
     "execution_count": 84,
     "metadata": {},
     "output_type": "execute_result"
    }
   ],
   "source": [
    "# generate residuals\n",
    "res = model_2.resid\n",
    "res"
   ]
  },
  {
   "cell_type": "code",
   "execution_count": 88,
   "id": "742a275a-ba6f-4d93-a547-fb81fe657155",
   "metadata": {
    "tags": []
   },
   "outputs": [
    {
     "data": {
      "image/png": "[encoded data removed]",
      "text/plain": [
       "<Figure size 800x550 with 1 Axes>"
      ]
     },
     "metadata": {},
     "output_type": "display_data"
    }
   ],
   "source": [
    "# Q-Q plot to determine normal distribution of residuals\n",
    "fig = sm.qqplot(res)\n",
    "plt.show()"
   ]
  },
  {
   "cell_type": "code",
   "execution_count": null,
   "id": "b54f1c00-f006-4516-83e9-4afb71d0f8be",
   "metadata": {},
   "outputs": [],
   "source": []
  }
 ],
 "metadata": {
  "kernelspec": {
   "display_name": "Python 3 (ipykernel)",
   "language": "python",
   "name": "python3"
  },
  "language_info": {
   "codemirror_mode": {
    "name": "ipython",
    "version": 3
   },
   "file_extension": ".py",
   "mimetype": "text/x-python",
   "name": "python",
   "nbconvert_exporter": "python",
   "pygments_lexer": "ipython3",
   "version": "3.10.9"
  }
 },
 "nbformat": 4,
 "nbformat_minor": 5
}
